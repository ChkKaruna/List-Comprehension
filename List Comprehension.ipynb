{
 "cells": [
  {
   "cell_type": "markdown",
   "id": "2f218bbb",
   "metadata": {},
   "source": [
    "## List Comprehension"
   ]
  },
  {
   "cell_type": "markdown",
   "id": "b593b757",
   "metadata": {},
   "source": [
    "#### List comprehension in Python is a way through which we can create lists with the least amount of code based on the values of the existing list. The syntax of the list comprehension is: new_list=[expression for element in list]"
   ]
  },
  {
   "cell_type": "code",
   "execution_count": 18,
   "id": "97710147",
   "metadata": {},
   "outputs": [],
   "source": [
    "lst1=[]\n",
    "def lst_square(lst):\n",
    "    for i in lst:\n",
    "        lst1.append(i*i)\n",
    "    return lst1"
   ]
  },
  {
   "cell_type": "code",
   "execution_count": 19,
   "id": "2e41c1db",
   "metadata": {},
   "outputs": [
    {
     "data": {
      "text/plain": [
       "[4, 9, 16, 36, 625, 7921, 625]"
      ]
     },
     "execution_count": 19,
     "metadata": {},
     "output_type": "execute_result"
    }
   ],
   "source": [
    "lst_square([2,3,4,6,25,89,25])"
   ]
  },
  {
   "cell_type": "code",
   "execution_count": 20,
   "id": "e8f5e1f1",
   "metadata": {},
   "outputs": [
    {
     "data": {
      "text/plain": [
       "[4, 9, 16, 36, 625, 7921, 625, 144, 169, 196, 225, 256, 289, 324, 361, 400]"
      ]
     },
     "execution_count": 20,
     "metadata": {},
     "output_type": "execute_result"
    }
   ],
   "source": [
    "lst_square([12,13,14,15,16,17,18,19,20])"
   ]
  },
  {
   "cell_type": "code",
   "execution_count": 21,
   "id": "05eefb09",
   "metadata": {},
   "outputs": [],
   "source": [
    "lst2=[]\n",
    "def lst_odd(lst_1):\n",
    "    for i in lst_1:\n",
    "        lst2.append(i%2!=0)\n",
    "    return lst2"
   ]
  },
  {
   "cell_type": "code",
   "execution_count": 22,
   "id": "280855db",
   "metadata": {},
   "outputs": [
    {
     "data": {
      "text/plain": [
       "[True, False, True, False, True, False, True, False, True, True]"
      ]
     },
     "execution_count": 22,
     "metadata": {},
     "output_type": "execute_result"
    }
   ],
   "source": [
    "lst_odd([1,2,3,4,5,6,7,8,9,11])"
   ]
  },
  {
   "cell_type": "code",
   "execution_count": 23,
   "id": "4caa36b7",
   "metadata": {},
   "outputs": [],
   "source": [
    "lst_2=[]\n",
    "def lst_percent(lst3):\n",
    "    for i in lst3:\n",
    "        lst_2.append(i/25*100)\n",
    "    return lst_2"
   ]
  },
  {
   "cell_type": "code",
   "execution_count": 24,
   "id": "45aa5637",
   "metadata": {},
   "outputs": [
    {
     "data": {
      "text/plain": [
       "[48.0, 80.0, 100.0, 48.0, 40.0, 96.0, 76.0, 72.0, 100.0]"
      ]
     },
     "execution_count": 24,
     "metadata": {},
     "output_type": "execute_result"
    }
   ],
   "source": [
    "lst_percent([12,20,25,12,10,24,19,18,25])"
   ]
  },
  {
   "cell_type": "code",
   "execution_count": 25,
   "id": "92fec143",
   "metadata": {},
   "outputs": [],
   "source": [
    "lst_4=[]\n",
    "def lst_answer(lst4):\n",
    "    for i in lst4:\n",
    "        lst_4.append((i+2)*2+(i+3)*3+(i+4)*4)\n",
    "    return lst_4"
   ]
  },
  {
   "cell_type": "code",
   "execution_count": 26,
   "id": "a157154c",
   "metadata": {},
   "outputs": [
    {
     "data": {
      "text/plain": [
       "[38, 47, 56, 65]"
      ]
     },
     "execution_count": 26,
     "metadata": {},
     "output_type": "execute_result"
    }
   ],
   "source": [
    "lst_answer([1,2,3,4])"
   ]
  },
  {
   "cell_type": "code",
   "execution_count": 27,
   "id": "883a1617",
   "metadata": {},
   "outputs": [],
   "source": [
    "lst_5=[]\n",
    "def lst_sol(lst6):\n",
    "    for i in lst6:\n",
    "        lst_6.append(i**0.5)\n",
    "    return lst_6"
   ]
  },
  {
   "cell_type": "code",
   "execution_count": 28,
   "id": "8a286e46",
   "metadata": {},
   "outputs": [
    {
     "data": {
      "text/plain": [
       "[7.0, 7.0]"
      ]
     },
     "execution_count": 28,
     "metadata": {},
     "output_type": "execute_result"
    }
   ],
   "source": [
    "lst_sol([49])"
   ]
  },
  {
   "cell_type": "code",
   "execution_count": 29,
   "id": "e9a0f939",
   "metadata": {},
   "outputs": [],
   "source": [
    "lst_sol=[4,9,16,25,36,49,64,81]"
   ]
  },
  {
   "cell_type": "markdown",
   "id": "09276257",
   "metadata": {},
   "source": [
    "##### With list comprehension we can work with only one line of code, & hence are more efficient both computationally and in terms of coding space and time than a for loop. "
   ]
  },
  {
   "cell_type": "code",
   "execution_count": 30,
   "id": "0ea6ff35",
   "metadata": {},
   "outputs": [
    {
     "data": {
      "text/plain": [
       "[16, 81, 256, 625, 1296, 2401, 4096, 6561]"
      ]
     },
     "execution_count": 30,
     "metadata": {},
     "output_type": "execute_result"
    }
   ],
   "source": [
    "[i*i for i in lst_sol] # list comprehension to save the memory"
   ]
  },
  {
   "cell_type": "markdown",
   "id": "ac496104",
   "metadata": {},
   "source": [
    "##### We can also give conditions to the list comprehensions and let the element add to the new list only if the condition is satisfied."
   ]
  },
  {
   "cell_type": "code",
   "execution_count": 31,
   "id": "aea06d79",
   "metadata": {},
   "outputs": [
    {
     "data": {
      "text/plain": [
       "[16, 256, 1296, 4096]"
      ]
     },
     "execution_count": 31,
     "metadata": {},
     "output_type": "execute_result"
    }
   ],
   "source": [
    "[i*i for i in lst_sol if i%2==0] #if condition added to do only even no."
   ]
  },
  {
   "cell_type": "code",
   "execution_count": 32,
   "id": "95b81bf4",
   "metadata": {},
   "outputs": [
    {
     "data": {
      "text/plain": [
       "[81, 625, 2401, 6561]"
      ]
     },
     "execution_count": 32,
     "metadata": {},
     "output_type": "execute_result"
    }
   ],
   "source": [
    "[i*i for i in lst_sol if i%2!=0]   # if condition added to do only odd no."
   ]
  },
  {
   "cell_type": "code",
   "execution_count": 33,
   "id": "bce8d021",
   "metadata": {},
   "outputs": [],
   "source": [
    "sqrt =[i**0.5 for i in lst_sol] # list comprehension for exponential operations"
   ]
  },
  {
   "cell_type": "code",
   "execution_count": 34,
   "id": "cae139c8",
   "metadata": {},
   "outputs": [
    {
     "data": {
      "text/plain": [
       "[2.0, 3.0, 4.0, 5.0, 6.0, 7.0, 8.0, 9.0]"
      ]
     },
     "execution_count": 34,
     "metadata": {},
     "output_type": "execute_result"
    }
   ],
   "source": [
    "sqrt"
   ]
  }
 ],
 "metadata": {
  "kernelspec": {
   "display_name": "Python 3",
   "language": "python",
   "name": "python3"
  },
  "language_info": {
   "codemirror_mode": {
    "name": "ipython",
    "version": 3
   },
   "file_extension": ".py",
   "mimetype": "text/x-python",
   "name": "python",
   "nbconvert_exporter": "python",
   "pygments_lexer": "ipython3",
   "version": "3.8.5"
  }
 },
 "nbformat": 4,
 "nbformat_minor": 5
}
